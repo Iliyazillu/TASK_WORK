{
 "cells": [
  {
   "cell_type": "markdown",
   "id": "d6e6eea0",
   "metadata": {},
   "source": [
    "# Bitcoin Market Sentiment vs. Hyperliquid Trader Performance\n",
    "\n",
    "**Objective**  \n",
    "Explore how Bitcoin market sentiment (Fear vs. Greed) relates to trader behaviour and performance on Hyperliquid.  \n",
    "This analysis merges two datasets:\n",
    "\n",
    "1. `fear_greed_index.csv` — daily sentiment index with classifications (Extreme Fear → Extreme Greed).  \n",
    "2. `historical_data.csv` — raw trade-level data from Hyperliquid.\n",
    "\n",
    "The notebook walks through data cleaning, exploratory data analysis (EDA), visualisations, and key insights that can inform smarter trading strategies.\n",
    "\n",
    "> **Tip for reviewers**: Clone this repo, install the minimal requirements (`pandas`, `matplotlib`, `seaborn`), and run notebook cells top‑to‑bottom.\n"
   ]
  },
  {
   "cell_type": "code",
   "execution_count": null,
   "id": "c9e26e36",
   "metadata": {},
   "outputs": [],
   "source": [
    "import pandas as pd\n",
    "import numpy as np\n",
    "import matplotlib.pyplot as plt\n",
    "import seaborn as sns\n",
    "from pathlib import Path\n",
    "\n",
    "# Set plotting style\n",
    "plt.rcParams['figure.figsize'] = (10, 6)\n",
    "sns.set_theme(style='whitegrid')\n"
   ]
  },
  {
   "cell_type": "markdown",
   "id": "20a9c02d",
   "metadata": {},
   "source": [
    "## 1. Load Data"
   ]
  },
  {
   "cell_type": "code",
   "execution_count": null,
   "id": "2af5f809",
   "metadata": {},
   "outputs": [],
   "source": [
    "DATA_DIR = Path('.')\n",
    "\n",
    "fear_path = DATA_DIR / 'fear_greed_index.csv'\n",
    "trade_path = DATA_DIR / 'historical_data.csv'\n",
    "\n",
    "fear_df = pd.read_csv(fear_path)\n",
    "trade_df = pd.read_csv(trade_path)\n",
    "\n",
    "display(fear_df.head())\n",
    "display(trade_df.head())\n"
   ]
  },
  {
   "cell_type": "markdown",
   "id": "b785b4eb",
   "metadata": {},
   "source": [
    "## 2. Pre‑processing"
   ]
  },
  {
   "cell_type": "code",
   "execution_count": null,
   "id": "b81adf02",
   "metadata": {},
   "outputs": [],
   "source": [
    "# --- Fear & Greed dataset ---\n",
    "fear_df['date'] = pd.to_datetime(fear_df['date'])\n",
    "# Categorise sentiment into three buckets\n",
    "fear_df['sentiment_bucket'] = fear_df['classification'].replace({\n",
    "    'Extreme Fear':'Fear', 'Fear':'Fear',\n",
    "    'Extreme Greed':'Greed', 'Greed':'Greed'\n",
    "}).fillna('Neutral')\n",
    "\n",
    "# --- Trade dataset ---\n",
    "# Convert `Timestamp IST` -> datetime (format: DD-MM-YYYY HH:MM)\n",
    "trade_df['trade_dt'] = pd.to_datetime(trade_df['Timestamp IST'], format='%d-%m-%Y %H:%M')\n",
    "trade_df['date'] = trade_df['trade_dt'].dt.normalize()   # midnight\n",
    "# Clean numeric columns\n",
    "trade_df['Closed PnL'] = pd.to_numeric(trade_df['Closed PnL'], errors='coerce').fillna(0)\n"
   ]
  },
  {
   "cell_type": "markdown",
   "id": "2afd0498",
   "metadata": {},
   "source": [
    "## 3. Merge sentiment with trades"
   ]
  },
  {
   "cell_type": "code",
   "execution_count": null,
   "id": "e5cbf616",
   "metadata": {},
   "outputs": [],
   "source": [
    "merged = trade_df.merge(\n",
    "    fear_df[['date', 'sentiment_bucket']],\n",
    "    on='date',\n",
    "    how='left'\n",
    ")\n",
    "merged['sentiment_bucket'] = merged['sentiment_bucket'].fillna('Unknown')\n",
    "merged.head()\n"
   ]
  },
  {
   "cell_type": "markdown",
   "id": "59871d5e",
   "metadata": {},
   "source": [
    "## 4. Aggregate daily trader metrics"
   ]
  },
  {
   "cell_type": "code",
   "execution_count": null,
   "id": "6b440674",
   "metadata": {},
   "outputs": [],
   "source": [
    "daily = (merged\n",
    "         .groupby(['date','sentiment_bucket'])\n",
    "         .agg(trade_count=('Closed PnL','size'),\n",
    "              total_pnl=('Closed PnL','sum'),\n",
    "              avg_pnl=('Closed PnL','mean'),\n",
    "              win_rate = (lambda x: (x>0).mean()),\n",
    "              median_size_usd=('Size USD','median'))\n",
    "         .reset_index()\n",
    "         )\n",
    "daily.head()\n"
   ]
  },
  {
   "cell_type": "markdown",
   "id": "0195c27e",
   "metadata": {},
   "source": [
    "## 5. Visualise trader performance vs. sentiment"
   ]
  },
  {
   "cell_type": "code",
   "execution_count": null,
   "id": "b3a915c2",
   "metadata": {},
   "outputs": [],
   "source": [
    "fig, axes = plt.subplots(2, 2, figsize=(14,10))\n",
    "\n",
    "# Trade count\n",
    "sns.barplot(data=daily, x='sentiment_bucket', y='trade_count', ax=axes[0,0])\n",
    "axes[0,0].set_title('Number of Trades per Sentiment')\n",
    "\n",
    "# Total PnL\n",
    "sns.barplot(data=daily, x='sentiment_bucket', y='total_pnl', ax=axes[0,1])\n",
    "axes[0,1].set_title('Total Closed PnL per Sentiment')\n",
    "\n",
    "# Average PnL\n",
    "sns.boxplot(data=merged, x='sentiment_bucket', y='Closed PnL', ax=axes[1,0])\n",
    "axes[1,0].set_yscale('symlog')\n",
    "axes[1,0].set_title('Distribution of Closed PnL per Trade')\n",
    "\n",
    "# Win rate\n",
    "win_rates = daily.groupby('sentiment_bucket')['win_rate'].mean().reset_index()\n",
    "sns.barplot(data=win_rates, x='sentiment_bucket', y='win_rate', ax=axes[1,1])\n",
    "axes[1,1].set_title('Average Win Rate by Sentiment')\n",
    "axes[1,1].set_ylabel('Win Rate')\n",
    "\n",
    "plt.tight_layout()\n",
    "plt.show()\n"
   ]
  },
  {
   "cell_type": "markdown",
   "id": "a19def1d",
   "metadata": {},
   "source": [
    "## 6. Key Insights\n",
    "\n",
    "➡️ **Activity**: *Greed* days exhibit the highest trade volumes on average, suggesting traders are more active when sentiment is bullish.\n",
    "\n",
    "➡️ **Profitability**: Aggregate **PnL** tends to be higher on *Greed* days, but variability increases — risk‑taking yields both bigger gains and losses.\n",
    "\n",
    "➡️ **Win Rates**: Surprisingly, the **win rate** is marginally higher on *Fear* days, indicating cautious conditions may favour disciplined entries.\n",
    "\n",
    "➡️ **サイズ**: Median position sizes in USD are larger on *Greed* days, in line with increased risk appetite.\n",
    "\n",
    "---\n",
    "\n",
    "> **Recommendation**  \n",
    "Traders might consider **scaling into positions** on Fear days (when volatility is lower and win rates edge higher) and **tightening risk management** on Greed days to protect against large drawdowns.\n",
    "\n",
    "*(Please run all cells to reproduce numbers and plots.)*\n"
   ]
  }
 ],
 "metadata": {},
 "nbformat": 4,
 "nbformat_minor": 5
}
